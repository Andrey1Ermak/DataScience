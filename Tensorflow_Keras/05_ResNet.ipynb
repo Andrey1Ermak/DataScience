{
 "cells": [
  {
   "cell_type": "code",
   "execution_count": 1,
   "id": "7a3d8c9c",
   "metadata": {},
   "outputs": [],
   "source": [
    "import tensorflow as tf\n",
    "from tensorflow import keras\n",
    "from tensorflow.keras import layers\n",
    "from tensorflow.keras.datasets import cifar10"
   ]
  },
  {
   "cell_type": "code",
   "execution_count": 2,
   "id": "a00aaae0",
   "metadata": {},
   "outputs": [
    {
     "name": "stdout",
     "output_type": "stream",
     "text": [
      "Downloading data from https://www.cs.toronto.edu/~kriz/cifar-10-python.tar.gz\n",
      "170498071/170498071 [==============================] - 9s 0us/step\n"
     ]
    }
   ],
   "source": [
    "(x_train, y_train), (x_test, y_test) = cifar10.load_data()\n",
    "\n",
    "x_train = x_train / 255\n",
    "x_test = x_test / 255\n",
    "\n",
    "y_train = keras.utils.to_categorical(y_train, 10)\n",
    "y_test = keras.utils.to_categorical(y_test, 10)"
   ]
  },
  {
   "cell_type": "code",
   "execution_count": 3,
   "id": "2d9d0b49",
   "metadata": {},
   "outputs": [],
   "source": [
    "inputs = keras.Input(shape=(32, 32, 3), name=\"img\")\n",
    "x = layers.Conv2D(32, 3, activation=\"relu\")(inputs)\n",
    "x = layers.Conv2D(64, 3, activation=\"relu\")(x)\n",
    "block_1_output = layers.MaxPooling2D(3)(x)\n",
    "\n",
    "x = layers.Conv2D(64, 3, activation=\"relu\", padding=\"same\")(block_1_output)\n",
    "x = layers.Conv2D(64, 3, activation=\"relu\", padding=\"same\")(x)\n",
    "block_2_output = layers.add([x, block_1_output])\n",
    "\n",
    "x = layers.Conv2D(64, 3, activation=\"relu\", padding=\"same\")(block_2_output)\n",
    "x = layers.Conv2D(64, 3, activation=\"relu\", padding=\"same\")(x)\n",
    "block_3_output = layers.add([x, block_2_output])\n",
    "\n",
    "x = layers.Conv2D(64, 3, activation=\"relu\")(block_3_output)\n",
    "x = layers.GlobalAveragePooling2D()(x)\n",
    "x = layers.Dense(256, activation=\"relu\")(x)\n",
    "x = layers.Dropout(0.5)(x)\n",
    "outputs = layers.Dense(10, activation='softmax')(x)"
   ]
  },
  {
   "cell_type": "code",
   "execution_count": 4,
   "id": "6c020e1c",
   "metadata": {},
   "outputs": [
    {
     "name": "stdout",
     "output_type": "stream",
     "text": [
      "Model: \"toy_resnet\"\n",
      "__________________________________________________________________________________________________\n",
      " Layer (type)                Output Shape                 Param #   Connected to                  \n",
      "==================================================================================================\n",
      " img (InputLayer)            [(None, 32, 32, 3)]          0         []                            \n",
      "                                                                                                  \n",
      " conv2d (Conv2D)             (None, 30, 30, 32)           896       ['img[0][0]']                 \n",
      "                                                                                                  \n",
      " conv2d_1 (Conv2D)           (None, 28, 28, 64)           18496     ['conv2d[0][0]']              \n",
      "                                                                                                  \n",
      " max_pooling2d (MaxPooling2  (None, 9, 9, 64)             0         ['conv2d_1[0][0]']            \n",
      " D)                                                                                               \n",
      "                                                                                                  \n",
      " conv2d_2 (Conv2D)           (None, 9, 9, 64)             36928     ['max_pooling2d[0][0]']       \n",
      "                                                                                                  \n",
      " conv2d_3 (Conv2D)           (None, 9, 9, 64)             36928     ['conv2d_2[0][0]']            \n",
      "                                                                                                  \n",
      " add (Add)                   (None, 9, 9, 64)             0         ['conv2d_3[0][0]',            \n",
      "                                                                     'max_pooling2d[0][0]']       \n",
      "                                                                                                  \n",
      " conv2d_4 (Conv2D)           (None, 9, 9, 64)             36928     ['add[0][0]']                 \n",
      "                                                                                                  \n",
      " conv2d_5 (Conv2D)           (None, 9, 9, 64)             36928     ['conv2d_4[0][0]']            \n",
      "                                                                                                  \n",
      " add_1 (Add)                 (None, 9, 9, 64)             0         ['conv2d_5[0][0]',            \n",
      "                                                                     'add[0][0]']                 \n",
      "                                                                                                  \n",
      " conv2d_6 (Conv2D)           (None, 7, 7, 64)             36928     ['add_1[0][0]']               \n",
      "                                                                                                  \n",
      " global_average_pooling2d (  (None, 64)                   0         ['conv2d_6[0][0]']            \n",
      " GlobalAveragePooling2D)                                                                          \n",
      "                                                                                                  \n",
      " dense (Dense)               (None, 256)                  16640     ['global_average_pooling2d[0][\n",
      "                                                                    0]']                          \n",
      "                                                                                                  \n",
      " dropout (Dropout)           (None, 256)                  0         ['dense[0][0]']               \n",
      "                                                                                                  \n",
      " dense_1 (Dense)             (None, 10)                   2570      ['dropout[0][0]']             \n",
      "                                                                                                  \n",
      "==================================================================================================\n",
      "Total params: 223242 (872.04 KB)\n",
      "Trainable params: 223242 (872.04 KB)\n",
      "Non-trainable params: 0 (0.00 Byte)\n",
      "__________________________________________________________________________________________________\n"
     ]
    }
   ],
   "source": [
    "model = keras.Model(inputs, outputs, name=\"toy_resnet\")\n",
    "model.summary()"
   ]
  },
  {
   "cell_type": "code",
   "execution_count": 5,
   "id": "2886ed63",
   "metadata": {},
   "outputs": [
    {
     "name": "stdout",
     "output_type": "stream",
     "text": [
      "Epoch 1/15\n",
      "625/625 [==============================] - 44s 69ms/step - loss: 1.7925 - accuracy: 0.3072 - val_loss: 1.5289 - val_accuracy: 0.4280\n",
      "Epoch 2/15\n",
      "625/625 [==============================] - 46s 73ms/step - loss: 1.3471 - accuracy: 0.5026 - val_loss: 1.1338 - val_accuracy: 0.5837\n",
      "Epoch 3/15\n",
      "625/625 [==============================] - 47s 76ms/step - loss: 1.1116 - accuracy: 0.5962 - val_loss: 1.0379 - val_accuracy: 0.6254\n",
      "Epoch 4/15\n",
      "625/625 [==============================] - 48s 76ms/step - loss: 0.9731 - accuracy: 0.6510 - val_loss: 0.8602 - val_accuracy: 0.6866\n",
      "Epoch 5/15\n",
      "625/625 [==============================] - 48s 77ms/step - loss: 0.8763 - accuracy: 0.6874 - val_loss: 0.8237 - val_accuracy: 0.7038\n",
      "Epoch 6/15\n",
      "625/625 [==============================] - 49s 78ms/step - loss: 0.7945 - accuracy: 0.7171 - val_loss: 0.8090 - val_accuracy: 0.7071\n",
      "Epoch 7/15\n",
      "625/625 [==============================] - 49s 79ms/step - loss: 0.7313 - accuracy: 0.7410 - val_loss: 0.7815 - val_accuracy: 0.7331\n",
      "Epoch 8/15\n",
      "625/625 [==============================] - 50s 80ms/step - loss: 0.6706 - accuracy: 0.7658 - val_loss: 0.7319 - val_accuracy: 0.7397\n",
      "Epoch 9/15\n",
      "625/625 [==============================] - 50s 80ms/step - loss: 0.6176 - accuracy: 0.7856 - val_loss: 0.6540 - val_accuracy: 0.7683\n",
      "Epoch 10/15\n",
      "625/625 [==============================] - 51s 81ms/step - loss: 0.5657 - accuracy: 0.8042 - val_loss: 0.6870 - val_accuracy: 0.7680\n",
      "Epoch 11/15\n",
      "625/625 [==============================] - 54s 86ms/step - loss: 0.5374 - accuracy: 0.8135 - val_loss: 0.6501 - val_accuracy: 0.7760\n",
      "Epoch 12/15\n",
      "625/625 [==============================] - 53s 84ms/step - loss: 0.5019 - accuracy: 0.8257 - val_loss: 0.6633 - val_accuracy: 0.7735\n",
      "Epoch 13/15\n",
      "625/625 [==============================] - 50s 80ms/step - loss: 0.4656 - accuracy: 0.8391 - val_loss: 0.7012 - val_accuracy: 0.7666\n",
      "Epoch 14/15\n",
      "625/625 [==============================] - 50s 81ms/step - loss: 0.4387 - accuracy: 0.8481 - val_loss: 0.6519 - val_accuracy: 0.7875\n",
      "Epoch 15/15\n",
      "625/625 [==============================] - 51s 81ms/step - loss: 0.4017 - accuracy: 0.8604 - val_loss: 0.6599 - val_accuracy: 0.7828\n"
     ]
    },
    {
     "data": {
      "text/plain": [
       "<keras.src.callbacks.History at 0x16a15d930>"
      ]
     },
     "execution_count": 5,
     "metadata": {},
     "output_type": "execute_result"
    }
   ],
   "source": [
    "model.compile(optimizer='adam',\n",
    "             loss='categorical_crossentropy',\n",
    "             metrics=['accuracy'])\n",
    "\n",
    "model.fit(x_train, y_train, batch_size=64, epochs=15, validation_split=0.2)"
   ]
  },
  {
   "cell_type": "code",
   "execution_count": 6,
   "id": "0521dcd8",
   "metadata": {},
   "outputs": [
    {
     "name": "stdout",
     "output_type": "stream",
     "text": [
      "313/313 [==============================] - 4s 13ms/step - loss: 0.7295 - accuracy: 0.7776\n",
      "[0.7295272946357727, 0.7775999903678894]\n"
     ]
    }
   ],
   "source": [
    "print( model.evaluate(x_test, y_test) )"
   ]
  },
  {
   "cell_type": "code",
   "execution_count": null,
   "id": "70a1281b",
   "metadata": {},
   "outputs": [],
   "source": []
  }
 ],
 "metadata": {
  "kernelspec": {
   "display_name": "Python 3 (ipykernel)",
   "language": "python",
   "name": "python3"
  },
  "language_info": {
   "codemirror_mode": {
    "name": "ipython",
    "version": 3
   },
   "file_extension": ".py",
   "mimetype": "text/x-python",
   "name": "python",
   "nbconvert_exporter": "python",
   "pygments_lexer": "ipython3",
   "version": "3.10.9"
  }
 },
 "nbformat": 4,
 "nbformat_minor": 5
}

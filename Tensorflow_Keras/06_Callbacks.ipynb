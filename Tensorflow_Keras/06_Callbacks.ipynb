{
 "cells": [
  {
   "cell_type": "code",
   "execution_count": 82,
   "id": "a9baf111",
   "metadata": {},
   "outputs": [
    {
     "data": {
      "text/plain": [
       "((404, 13), (102, 13))"
      ]
     },
     "execution_count": 82,
     "metadata": {},
     "output_type": "execute_result"
    }
   ],
   "source": [
    "from keras.datasets import boston_housing\n",
    "(X_train, y_train), (X_test, y_test) = boston_housing.load_data()\n",
    "X_train.shape, X_test.shape"
   ]
  },
  {
   "cell_type": "code",
   "execution_count": 83,
   "id": "c9cd1818",
   "metadata": {},
   "outputs": [],
   "source": [
    "X_train -= X_train.mean(axis=0)\n",
    "X_train /= X_train.std(axis=0)\n",
    "\n",
    "X_test -= X_train.mean(axis=0)\n",
    "X_test /= X_train.std(axis=0)"
   ]
  },
  {
   "cell_type": "code",
   "execution_count": 84,
   "id": "93ef8f1b",
   "metadata": {},
   "outputs": [
    {
     "name": "stdout",
     "output_type": "stream",
     "text": [
      "Model: \"sequential_11\"\n",
      "_________________________________________________________________\n",
      " Layer (type)                Output Shape              Param #   \n",
      "=================================================================\n",
      " dense_43 (Dense)            (None, 32)                448       \n",
      "                                                                 \n",
      " dense_44 (Dense)            (None, 16)                528       \n",
      "                                                                 \n",
      " dense_45 (Dense)            (None, 1)                 17        \n",
      "                                                                 \n",
      "=================================================================\n",
      "Total params: 993 (3.88 KB)\n",
      "Trainable params: 993 (3.88 KB)\n",
      "Non-trainable params: 0 (0.00 Byte)\n",
      "_________________________________________________________________\n"
     ]
    }
   ],
   "source": [
    "from keras.models import Sequential\n",
    "from keras.layers import Dense\n",
    "import tensorflow as tf\n",
    "tf.random.set_seed(9)\n",
    "\n",
    "\n",
    "model = Sequential()\n",
    "model.add(Dense(32, activation='relu', input_shape=(X_train.shape[1], )))\n",
    "model.add(Dense(16, activation='relu'))\n",
    "model.add(Dense(1))\n",
    "\n",
    "model.summary()"
   ]
  },
  {
   "cell_type": "code",
   "execution_count": 85,
   "id": "f799f6cd",
   "metadata": {},
   "outputs": [],
   "source": [
    "model.compile(optimizer='adam', loss='mse', metrics=['mse'])"
   ]
  },
  {
   "cell_type": "code",
   "execution_count": 86,
   "id": "5bb4a4a3",
   "metadata": {
    "scrolled": true
   },
   "outputs": [
    {
     "name": "stdout",
     "output_type": "stream",
     "text": [
      "Epoch 1/50\n",
      "13/13 [==============================] - 0s 4ms/step - loss: 593.9249 - mse: 593.9249 - val_loss: 3597.5491 - val_mse: 3597.5491\n",
      "Epoch 2/50\n",
      "13/13 [==============================] - 0s 1ms/step - loss: 570.4873 - mse: 570.4873 - val_loss: 1282.9508 - val_mse: 1282.9508\n",
      "Epoch 3/50\n",
      "13/13 [==============================] - 0s 1ms/step - loss: 547.6553 - mse: 547.6553 - val_loss: 334.8042 - val_mse: 334.8042\n",
      "Epoch 4/50\n",
      "13/13 [==============================] - 0s 1ms/step - loss: 523.8637 - mse: 523.8637 - val_loss: 185.4024 - val_mse: 185.4024\n",
      "Epoch 5/50\n",
      "13/13 [==============================] - 0s 1ms/step - loss: 495.8967 - mse: 495.8967 - val_loss: 1703.6918 - val_mse: 1703.6918\n",
      "Epoch 6/50\n",
      "13/13 [==============================] - 0s 1ms/step - loss: 461.8143 - mse: 461.8143 - val_loss: 6384.9639 - val_mse: 6384.9639\n",
      "Epoch 7/50\n",
      "13/13 [==============================] - 0s 1ms/step - loss: 421.3007 - mse: 421.3007 - val_loss: 16926.4961 - val_mse: 16926.4961\n",
      "Epoch 8/50\n",
      "13/13 [==============================] - 0s 1ms/step - loss: 375.4258 - mse: 375.4258 - val_loss: 35122.1406 - val_mse: 35122.1406\n",
      "Epoch 9/50\n",
      "13/13 [==============================] - 0s 1ms/step - loss: 323.2291 - mse: 323.2291 - val_loss: 62518.4297 - val_mse: 62518.4297\n",
      "Epoch 10/50\n",
      "13/13 [==============================] - 0s 1ms/step - loss: 269.2744 - mse: 269.2744 - val_loss: 104748.5625 - val_mse: 104748.5625\n",
      "Epoch 11/50\n",
      "13/13 [==============================] - 0s 1ms/step - loss: 215.6160 - mse: 215.6160 - val_loss: 170983.8438 - val_mse: 170983.8438\n",
      "Epoch 12/50\n",
      "13/13 [==============================] - 0s 1ms/step - loss: 164.7424 - mse: 164.7424 - val_loss: 258956.3594 - val_mse: 258956.3594\n",
      "Epoch 13/50\n",
      "13/13 [==============================] - 0s 1ms/step - loss: 124.6813 - mse: 124.6813 - val_loss: 375234.1875 - val_mse: 375234.1875\n",
      "Epoch 14/50\n",
      "13/13 [==============================] - 0s 1ms/step - loss: 95.5742 - mse: 95.5742 - val_loss: 519165.7188 - val_mse: 519165.7188\n",
      "Epoch 15/50\n",
      "13/13 [==============================] - 0s 1ms/step - loss: 76.3035 - mse: 76.3035 - val_loss: 676984.8750 - val_mse: 676984.8750\n",
      "Epoch 16/50\n",
      "13/13 [==============================] - 0s 1ms/step - loss: 62.9705 - mse: 62.9705 - val_loss: 827209.3125 - val_mse: 827209.3125\n",
      "Epoch 17/50\n",
      "13/13 [==============================] - 0s 1ms/step - loss: 53.3115 - mse: 53.3115 - val_loss: 989187.5000 - val_mse: 989187.5000\n",
      "Epoch 18/50\n",
      "13/13 [==============================] - 0s 1ms/step - loss: 46.2688 - mse: 46.2688 - val_loss: 1121967.7500 - val_mse: 1121967.7500\n",
      "Epoch 19/50\n",
      "13/13 [==============================] - 0s 1ms/step - loss: 40.5575 - mse: 40.5575 - val_loss: 1236605.6250 - val_mse: 1236605.6250\n",
      "Epoch 20/50\n",
      "13/13 [==============================] - 0s 1ms/step - loss: 36.2509 - mse: 36.2509 - val_loss: 1352487.0000 - val_mse: 1352487.0000\n",
      "Epoch 21/50\n",
      "13/13 [==============================] - 0s 1ms/step - loss: 32.8255 - mse: 32.8255 - val_loss: 1448850.0000 - val_mse: 1448850.0000\n",
      "Epoch 22/50\n",
      "13/13 [==============================] - 0s 1ms/step - loss: 30.2106 - mse: 30.2106 - val_loss: 1574164.8750 - val_mse: 1574164.8750\n",
      "Epoch 23/50\n",
      "13/13 [==============================] - 0s 1ms/step - loss: 28.0959 - mse: 28.0959 - val_loss: 1620247.2500 - val_mse: 1620247.2500\n",
      "Epoch 24/50\n",
      "13/13 [==============================] - 0s 1ms/step - loss: 26.3344 - mse: 26.3344 - val_loss: 1698626.8750 - val_mse: 1698626.8750\n",
      "Epoch 25/50\n",
      "13/13 [==============================] - 0s 2ms/step - loss: 25.0651 - mse: 25.0651 - val_loss: 1780433.3750 - val_mse: 1780433.3750\n",
      "Epoch 26/50\n",
      "13/13 [==============================] - 0s 1ms/step - loss: 23.8627 - mse: 23.8627 - val_loss: 1829253.3750 - val_mse: 1829253.3750\n",
      "Epoch 27/50\n",
      "13/13 [==============================] - 0s 1ms/step - loss: 22.8298 - mse: 22.8298 - val_loss: 1899978.2500 - val_mse: 1899978.2500\n",
      "Epoch 28/50\n",
      "13/13 [==============================] - 0s 1ms/step - loss: 22.0311 - mse: 22.0311 - val_loss: 1968586.3750 - val_mse: 1968586.3750\n",
      "Epoch 29/50\n",
      "13/13 [==============================] - 0s 1ms/step - loss: 21.2564 - mse: 21.2564 - val_loss: 2010023.5000 - val_mse: 2010023.5000\n",
      "Epoch 30/50\n",
      "13/13 [==============================] - 0s 1ms/step - loss: 20.5451 - mse: 20.5451 - val_loss: 2051060.2500 - val_mse: 2051060.2500\n",
      "Epoch 31/50\n",
      "13/13 [==============================] - 0s 1ms/step - loss: 19.9413 - mse: 19.9413 - val_loss: 2074631.6250 - val_mse: 2074631.6250\n",
      "Epoch 32/50\n",
      "13/13 [==============================] - 0s 1ms/step - loss: 19.4625 - mse: 19.4625 - val_loss: 2125992.0000 - val_mse: 2125992.0000\n",
      "Epoch 33/50\n",
      "13/13 [==============================] - 0s 1ms/step - loss: 18.9377 - mse: 18.9377 - val_loss: 2149608.0000 - val_mse: 2149608.0000\n",
      "Epoch 34/50\n",
      "13/13 [==============================] - 0s 1ms/step - loss: 18.4673 - mse: 18.4673 - val_loss: 2198776.2500 - val_mse: 2198776.2500\n",
      "Epoch 35/50\n",
      "13/13 [==============================] - 0s 1ms/step - loss: 18.0568 - mse: 18.0568 - val_loss: 2237891.5000 - val_mse: 2237891.5000\n",
      "Epoch 36/50\n",
      "13/13 [==============================] - 0s 1ms/step - loss: 17.6212 - mse: 17.6212 - val_loss: 2254004.5000 - val_mse: 2254004.5000\n",
      "Epoch 37/50\n",
      "13/13 [==============================] - 0s 1ms/step - loss: 17.3053 - mse: 17.3053 - val_loss: 2345258.7500 - val_mse: 2345258.7500\n",
      "Epoch 38/50\n",
      "13/13 [==============================] - 0s 1ms/step - loss: 16.8579 - mse: 16.8579 - val_loss: 2370654.0000 - val_mse: 2370654.0000\n",
      "Epoch 39/50\n",
      "13/13 [==============================] - 0s 1ms/step - loss: 16.5644 - mse: 16.5644 - val_loss: 2396802.7500 - val_mse: 2396802.7500\n",
      "Epoch 40/50\n",
      "13/13 [==============================] - 0s 1ms/step - loss: 16.2396 - mse: 16.2396 - val_loss: 2411950.0000 - val_mse: 2411950.0000\n",
      "Epoch 41/50\n",
      "13/13 [==============================] - 0s 1ms/step - loss: 15.9313 - mse: 15.9313 - val_loss: 2446893.7500 - val_mse: 2446893.7500\n",
      "Epoch 42/50\n",
      "13/13 [==============================] - 0s 1ms/step - loss: 15.6167 - mse: 15.6167 - val_loss: 2492968.7500 - val_mse: 2492968.7500\n",
      "Epoch 43/50\n",
      "13/13 [==============================] - 0s 1ms/step - loss: 15.3874 - mse: 15.3874 - val_loss: 2514314.7500 - val_mse: 2514314.7500\n",
      "Epoch 44/50\n",
      "13/13 [==============================] - 0s 1ms/step - loss: 15.1701 - mse: 15.1701 - val_loss: 2609447.7500 - val_mse: 2609447.7500\n",
      "Epoch 45/50\n",
      "13/13 [==============================] - 0s 1ms/step - loss: 14.8739 - mse: 14.8739 - val_loss: 2645858.7500 - val_mse: 2645858.7500\n",
      "Epoch 46/50\n",
      "13/13 [==============================] - 0s 1ms/step - loss: 14.6413 - mse: 14.6413 - val_loss: 2668512.7500 - val_mse: 2668512.7500\n",
      "Epoch 47/50\n",
      "13/13 [==============================] - 0s 1ms/step - loss: 14.4927 - mse: 14.4927 - val_loss: 2696961.5000 - val_mse: 2696961.5000\n",
      "Epoch 48/50\n",
      "13/13 [==============================] - 0s 1ms/step - loss: 14.2700 - mse: 14.2700 - val_loss: 2672993.0000 - val_mse: 2672993.0000\n",
      "Epoch 49/50\n",
      "13/13 [==============================] - 0s 1ms/step - loss: 14.0718 - mse: 14.0718 - val_loss: 2724950.0000 - val_mse: 2724950.0000\n",
      "Epoch 50/50\n",
      "13/13 [==============================] - 0s 1ms/step - loss: 13.8716 - mse: 13.8716 - val_loss: 2797810.5000 - val_mse: 2797810.5000\n"
     ]
    }
   ],
   "source": [
    "history = model.fit(X_train, y_train,\n",
    "                    epochs=50,\n",
    "                    validation_data=(X_test, y_test))"
   ]
  },
  {
   "cell_type": "code",
   "execution_count": 87,
   "id": "9178ee64",
   "metadata": {
    "scrolled": true
   },
   "outputs": [
    {
     "data": {
      "text/plain": [
       "{'loss': [593.9248657226562,\n",
       "  570.4873046875,\n",
       "  547.6552734375,\n",
       "  523.8637084960938,\n",
       "  495.896728515625,\n",
       "  461.8143310546875,\n",
       "  421.3006591796875,\n",
       "  375.4257507324219,\n",
       "  323.22906494140625,\n",
       "  269.27435302734375,\n",
       "  215.61595153808594,\n",
       "  164.7423553466797,\n",
       "  124.68131256103516,\n",
       "  95.57422637939453,\n",
       "  76.30353546142578,\n",
       "  62.970523834228516,\n",
       "  53.31145477294922,\n",
       "  46.268775939941406,\n",
       "  40.557472229003906,\n",
       "  36.25092697143555,\n",
       "  32.825462341308594,\n",
       "  30.210596084594727,\n",
       "  28.095922470092773,\n",
       "  26.334436416625977,\n",
       "  25.065086364746094,\n",
       "  23.862672805786133,\n",
       "  22.829795837402344,\n",
       "  22.031057357788086,\n",
       "  21.25643539428711,\n",
       "  20.54506492614746,\n",
       "  19.9412899017334,\n",
       "  19.462486267089844,\n",
       "  18.937660217285156,\n",
       "  18.46727180480957,\n",
       "  18.05684471130371,\n",
       "  17.6212100982666,\n",
       "  17.305316925048828,\n",
       "  16.857892990112305,\n",
       "  16.56439208984375,\n",
       "  16.239641189575195,\n",
       "  15.9313383102417,\n",
       "  15.61671257019043,\n",
       "  15.387434005737305,\n",
       "  15.170071601867676,\n",
       "  14.87390422821045,\n",
       "  14.641307830810547,\n",
       "  14.49267578125,\n",
       "  14.270001411437988,\n",
       "  14.071789741516113,\n",
       "  13.871573448181152],\n",
       " 'mse': [593.9248657226562,\n",
       "  570.4873046875,\n",
       "  547.6552734375,\n",
       "  523.8637084960938,\n",
       "  495.896728515625,\n",
       "  461.8143310546875,\n",
       "  421.3006591796875,\n",
       "  375.4257507324219,\n",
       "  323.22906494140625,\n",
       "  269.27435302734375,\n",
       "  215.61595153808594,\n",
       "  164.7423553466797,\n",
       "  124.68131256103516,\n",
       "  95.57422637939453,\n",
       "  76.30353546142578,\n",
       "  62.970523834228516,\n",
       "  53.31145477294922,\n",
       "  46.268775939941406,\n",
       "  40.557472229003906,\n",
       "  36.25092697143555,\n",
       "  32.825462341308594,\n",
       "  30.210596084594727,\n",
       "  28.095922470092773,\n",
       "  26.334436416625977,\n",
       "  25.065086364746094,\n",
       "  23.862672805786133,\n",
       "  22.829795837402344,\n",
       "  22.031057357788086,\n",
       "  21.25643539428711,\n",
       "  20.54506492614746,\n",
       "  19.9412899017334,\n",
       "  19.462486267089844,\n",
       "  18.937660217285156,\n",
       "  18.46727180480957,\n",
       "  18.05684471130371,\n",
       "  17.6212100982666,\n",
       "  17.305316925048828,\n",
       "  16.857892990112305,\n",
       "  16.56439208984375,\n",
       "  16.239641189575195,\n",
       "  15.9313383102417,\n",
       "  15.61671257019043,\n",
       "  15.387434005737305,\n",
       "  15.170071601867676,\n",
       "  14.87390422821045,\n",
       "  14.641307830810547,\n",
       "  14.49267578125,\n",
       "  14.270001411437988,\n",
       "  14.071789741516113,\n",
       "  13.871573448181152],\n",
       " 'val_loss': [3597.549072265625,\n",
       "  1282.9508056640625,\n",
       "  334.8042297363281,\n",
       "  185.40240478515625,\n",
       "  1703.6917724609375,\n",
       "  6384.9638671875,\n",
       "  16926.49609375,\n",
       "  35122.140625,\n",
       "  62518.4296875,\n",
       "  104748.5625,\n",
       "  170983.84375,\n",
       "  258956.359375,\n",
       "  375234.1875,\n",
       "  519165.71875,\n",
       "  676984.875,\n",
       "  827209.3125,\n",
       "  989187.5,\n",
       "  1121967.75,\n",
       "  1236605.625,\n",
       "  1352487.0,\n",
       "  1448850.0,\n",
       "  1574164.875,\n",
       "  1620247.25,\n",
       "  1698626.875,\n",
       "  1780433.375,\n",
       "  1829253.375,\n",
       "  1899978.25,\n",
       "  1968586.375,\n",
       "  2010023.5,\n",
       "  2051060.25,\n",
       "  2074631.625,\n",
       "  2125992.0,\n",
       "  2149608.0,\n",
       "  2198776.25,\n",
       "  2237891.5,\n",
       "  2254004.5,\n",
       "  2345258.75,\n",
       "  2370654.0,\n",
       "  2396802.75,\n",
       "  2411950.0,\n",
       "  2446893.75,\n",
       "  2492968.75,\n",
       "  2514314.75,\n",
       "  2609447.75,\n",
       "  2645858.75,\n",
       "  2668512.75,\n",
       "  2696961.5,\n",
       "  2672993.0,\n",
       "  2724950.0,\n",
       "  2797810.5],\n",
       " 'val_mse': [3597.549072265625,\n",
       "  1282.9508056640625,\n",
       "  334.8042297363281,\n",
       "  185.40240478515625,\n",
       "  1703.6917724609375,\n",
       "  6384.9638671875,\n",
       "  16926.49609375,\n",
       "  35122.140625,\n",
       "  62518.4296875,\n",
       "  104748.5625,\n",
       "  170983.84375,\n",
       "  258956.359375,\n",
       "  375234.1875,\n",
       "  519165.71875,\n",
       "  676984.875,\n",
       "  827209.3125,\n",
       "  989187.5,\n",
       "  1121967.75,\n",
       "  1236605.625,\n",
       "  1352487.0,\n",
       "  1448850.0,\n",
       "  1574164.875,\n",
       "  1620247.25,\n",
       "  1698626.875,\n",
       "  1780433.375,\n",
       "  1829253.375,\n",
       "  1899978.25,\n",
       "  1968586.375,\n",
       "  2010023.5,\n",
       "  2051060.25,\n",
       "  2074631.625,\n",
       "  2125992.0,\n",
       "  2149608.0,\n",
       "  2198776.25,\n",
       "  2237891.5,\n",
       "  2254004.5,\n",
       "  2345258.75,\n",
       "  2370654.0,\n",
       "  2396802.75,\n",
       "  2411950.0,\n",
       "  2446893.75,\n",
       "  2492968.75,\n",
       "  2514314.75,\n",
       "  2609447.75,\n",
       "  2645858.75,\n",
       "  2668512.75,\n",
       "  2696961.5,\n",
       "  2672993.0,\n",
       "  2724950.0,\n",
       "  2797810.5]}"
      ]
     },
     "execution_count": 87,
     "metadata": {},
     "output_type": "execute_result"
    }
   ],
   "source": [
    "history.history"
   ]
  },
  {
   "cell_type": "code",
   "execution_count": 88,
   "id": "451dc9cb",
   "metadata": {},
   "outputs": [
    {
     "data": {
      "image/png": "[encoded data removed]",
      "text/plain": [
       "<Figure size 640x480 with 1 Axes>"
      ]
     },
     "metadata": {},
     "output_type": "display_data"
    }
   ],
   "source": [
    "import matplotlib.pyplot as plt\n",
    "\n",
    "plt.plot(history.history['loss'], label='train loss')\n",
    "plt.plot(history.history['val_loss'], label='test loss')\n",
    "plt.legend();"
   ]
  },
  {
   "cell_type": "code",
   "execution_count": 89,
   "id": "bd4ea812",
   "metadata": {},
   "outputs": [
    {
     "data": {
      "image/png": "[encoded data removed]",
      "text/plain": [
       "<Figure size 640x480 with 1 Axes>"
      ]
     },
     "metadata": {},
     "output_type": "display_data"
    }
   ],
   "source": [
    "plt.plot(history.history['mse'], label='train mse')\n",
    "plt.plot(history.history['val_mse'], label='test mse')\n",
    "plt.legend();"
   ]
  },
  {
   "cell_type": "code",
   "execution_count": 98,
   "id": "9db04dea",
   "metadata": {},
   "outputs": [],
   "source": [
    "from keras import callbacks\n",
    "\n",
    "model_checkpoint = callbacks.ModelCheckpoint(filepath='model_best_{epoch}.h5',\n",
    "                                             monitor='val_mse',\n",
    "                                             verbose=1,\n",
    "                                             save_best_only=True,\n",
    "                                             save_weights_only=False,\n",
    "                                             mode='auto',\n",
    "                                             save_freq='epoch')"
   ]
  },
  {
   "cell_type": "code",
   "execution_count": 99,
   "id": "0ff70ebf",
   "metadata": {},
   "outputs": [],
   "source": [
    "model.compile(optimizer='adam', loss='mse', metrics=['mse'])"
   ]
  },
  {
   "cell_type": "code",
   "execution_count": 100,
   "id": "e6c7c208",
   "metadata": {},
   "outputs": [
    {
     "name": "stdout",
     "output_type": "stream",
     "text": [
      "Epoch 1/5\n",
      " 1/13 [=>............................] - ETA: 1s - loss: 8.3448 - mse: 8.3448\n",
      "Epoch 1: val_mse improved from inf to 3216429.75000, saving model to model_best_1.h5\n",
      "13/13 [==============================] - 0s 5ms/step - loss: 11.0606 - mse: 11.0606 - val_loss: 3216429.7500 - val_mse: 3216429.7500\n",
      "Epoch 2/5\n",
      " 1/13 [=>............................] - ETA: 0s - loss: 9.2388 - mse: 9.2388\n",
      "Epoch 2: val_mse improved from 3216429.75000 to 3163795.25000, saving model to model_best_2.h5\n",
      "13/13 [==============================] - 0s 2ms/step - loss: 10.8373 - mse: 10.8373 - val_loss: 3163795.2500 - val_mse: 3163795.2500\n",
      "Epoch 3/5\n",
      " 1/13 [=>............................] - ETA: 0s - loss: 9.1355 - mse: 9.1355\n",
      "Epoch 3: val_mse improved from 3163795.25000 to 3116499.75000, saving model to model_best_3.h5\n",
      "13/13 [==============================] - 0s 2ms/step - loss: 10.7531 - mse: 10.7531 - val_loss: 3116499.7500 - val_mse: 3116499.7500\n",
      "Epoch 4/5\n",
      " 1/13 [=>............................] - ETA: 0s - loss: 5.7382 - mse: 5.7382\n",
      "Epoch 4: val_mse did not improve from 3116499.75000\n",
      "13/13 [==============================] - 0s 2ms/step - loss: 10.5727 - mse: 10.5727 - val_loss: 3133539.7500 - val_mse: 3133539.7500\n",
      "Epoch 5/5\n",
      " 1/13 [=>............................] - ETA: 0s - loss: 5.9989 - mse: 5.9989\n",
      "Epoch 5: val_mse did not improve from 3116499.75000\n",
      "13/13 [==============================] - 0s 1ms/step - loss: 10.5459 - mse: 10.5459 - val_loss: 3181675.2500 - val_mse: 3181675.2500\n"
     ]
    },
    {
     "name": "stderr",
     "output_type": "stream",
     "text": [
      "/Users/andrewermak/anaconda3/lib/python3.10/site-packages/keras/src/engine/training.py:3000: UserWarning: You are saving your model as an HDF5 file via `model.save()`. This file format is considered legacy. We recommend using instead the native Keras format, e.g. `model.save('my_model.keras')`.\n",
      "  saving_api.save_model(\n"
     ]
    },
    {
     "data": {
      "text/plain": [
       "<keras.src.callbacks.History at 0x173268130>"
      ]
     },
     "execution_count": 100,
     "metadata": {},
     "output_type": "execute_result"
    }
   ],
   "source": [
    "model.fit(X_train, y_train,\n",
    "          epochs=5,\n",
    "          validation_data=(X_test, y_test),\n",
    "          callbacks=[model_checkpoint])"
   ]
  },
  {
   "cell_type": "code",
   "execution_count": 101,
   "id": "a859dcff",
   "metadata": {},
   "outputs": [
    {
     "name": "stdout",
     "output_type": "stream",
     "text": [
      "Epoch 1/10\n",
      "13/13 [==============================] - 0s 3ms/step - loss: 10.4300 - mse: 10.4300 - val_loss: 3172567.0000 - val_mse: 3172567.0000\n",
      "Epoch 2/10\n",
      "13/13 [==============================] - 0s 1ms/step - loss: 10.3481 - mse: 10.3481 - val_loss: 3180250.0000 - val_mse: 3180250.0000\n",
      "Epoch 3/10\n",
      "13/13 [==============================] - 0s 1ms/step - loss: 10.3200 - mse: 10.3200 - val_loss: 3134590.7500 - val_mse: 3134590.7500\n",
      "Epoch 4/10\n",
      "13/13 [==============================] - 0s 1ms/step - loss: 10.1502 - mse: 10.1502 - val_loss: 3141039.2500 - val_mse: 3141039.2500\n",
      "Epoch 5/10\n",
      " 1/13 [=>............................] - ETA: 0s - loss: 6.1254 - mse: 6.1254Restoring model weights from the end of the best epoch: 3.\n",
      "13/13 [==============================] - 0s 2ms/step - loss: 10.1522 - mse: 10.1522 - val_loss: 3195927.2500 - val_mse: 3195927.2500\n",
      "Epoch 5: early stopping\n"
     ]
    },
    {
     "data": {
      "text/plain": [
       "<keras.src.callbacks.History at 0x2a5361240>"
      ]
     },
     "execution_count": 101,
     "metadata": {},
     "output_type": "execute_result"
    }
   ],
   "source": [
    "early_stop = callbacks.EarlyStopping(monitor='val_loss',\n",
    "                                     min_delta=0,\n",
    "                                     patience=2,\n",
    "                                     verbose=1,\n",
    "                                     mode='auto',\n",
    "                                    #  baseline=0.006,\n",
    "                                     restore_best_weights=True)\n",
    "\n",
    "\n",
    "model.fit(X_train, y_train,\n",
    "          epochs=10,\n",
    "          validation_data=(X_test, y_test),\n",
    "          callbacks=[early_stop])"
   ]
  },
  {
   "cell_type": "code",
   "execution_count": 102,
   "id": "b792bee9",
   "metadata": {},
   "outputs": [],
   "source": [
    "model.compile(optimizer='adam', loss='mse', metrics=['mae'])"
   ]
  },
  {
   "cell_type": "code",
   "execution_count": 104,
   "id": "cc765206",
   "metadata": {},
   "outputs": [
    {
     "name": "stdout",
     "output_type": "stream",
     "text": [
      "Epoch 1/20\n",
      "13/13 [==============================] - 0s 2ms/step - loss: 9.7618 - mae: 2.2121 - val_loss: 3163900.5000 - val_mae: 1747.0579 - lr: 1.0000e-06\n",
      "Epoch 2/20\n",
      "13/13 [==============================] - 0s 1ms/step - loss: 9.7617 - mae: 2.2121 - val_loss: 3163880.2500 - val_mae: 1747.0521 - lr: 1.0000e-06\n",
      "Epoch 3/20\n",
      "13/13 [==============================] - 0s 1ms/step - loss: 9.7617 - mae: 2.2121 - val_loss: 3163818.0000 - val_mae: 1747.0350 - lr: 1.0000e-06\n",
      "Epoch 4/20\n",
      "13/13 [==============================] - 0s 1ms/step - loss: 9.7615 - mae: 2.2121 - val_loss: 3163748.7500 - val_mae: 1747.0156 - lr: 1.0000e-06\n",
      "Epoch 5/20\n",
      "13/13 [==============================] - 0s 1ms/step - loss: 9.7615 - mae: 2.2121 - val_loss: 3163744.0000 - val_mae: 1747.0140 - lr: 1.0000e-06\n",
      "Epoch 6/20\n",
      "13/13 [==============================] - 0s 1ms/step - loss: 9.7614 - mae: 2.2120 - val_loss: 3163681.2500 - val_mae: 1746.9954 - lr: 1.0000e-06\n",
      "Epoch 7/20\n",
      "13/13 [==============================] - 0s 1ms/step - loss: 9.7613 - mae: 2.2120 - val_loss: 3163654.5000 - val_mae: 1746.9880 - lr: 1.0000e-06\n",
      "Epoch 8/20\n",
      "13/13 [==============================] - 0s 1ms/step - loss: 9.7612 - mae: 2.2120 - val_loss: 3163636.7500 - val_mae: 1746.9825 - lr: 1.0000e-06\n",
      "Epoch 9/20\n",
      "13/13 [==============================] - 0s 1ms/step - loss: 9.7612 - mae: 2.2120 - val_loss: 3163623.2500 - val_mae: 1746.9789 - lr: 1.0000e-06\n",
      "Epoch 10/20\n",
      " 1/13 [=>............................] - ETA: 0s - loss: 9.6839 - mae: 2.0935\n",
      "Epoch 10: ReduceLROnPlateau reducing learning rate to 1.0000001111620805e-07.\n",
      "13/13 [==============================] - 0s 1ms/step - loss: 9.7611 - mae: 2.2120 - val_loss: 3163677.7500 - val_mae: 1746.9929 - lr: 1.0000e-06\n",
      "Epoch 11/20\n",
      "13/13 [==============================] - 0s 1ms/step - loss: 9.7609 - mae: 2.2119 - val_loss: 3163673.7500 - val_mae: 1746.9918 - lr: 1.0000e-07\n",
      "Epoch 12/20\n",
      " 1/13 [=>............................] - ETA: 0s - loss: 4.8593 - mae: 1.8727\n",
      "Epoch 12: ReduceLROnPlateau reducing learning rate to 1.000000082740371e-08.\n",
      "13/13 [==============================] - 0s 1ms/step - loss: 9.7609 - mae: 2.2119 - val_loss: 3163667.5000 - val_mae: 1746.9902 - lr: 1.0000e-07\n",
      "Epoch 13/20\n",
      "13/13 [==============================] - 0s 1ms/step - loss: 9.7609 - mae: 2.2119 - val_loss: 3163667.5000 - val_mae: 1746.9902 - lr: 1.0000e-08\n",
      "Epoch 14/20\n",
      " 1/13 [=>............................] - ETA: 0s - loss: 4.4086 - mae: 1.7312\n",
      "Epoch 14: ReduceLROnPlateau reducing learning rate to 1.000000082740371e-09.\n",
      "13/13 [==============================] - 0s 1ms/step - loss: 9.7609 - mae: 2.2119 - val_loss: 3163667.7500 - val_mae: 1746.9902 - lr: 1.0000e-08\n",
      "Epoch 15/20\n",
      "13/13 [==============================] - 0s 1ms/step - loss: 9.7609 - mae: 2.2119 - val_loss: 3163667.7500 - val_mae: 1746.9902 - lr: 1.0000e-09\n",
      "Epoch 16/20\n",
      " 1/13 [=>............................] - ETA: 0s - loss: 3.8965 - mae: 1.5686\n",
      "Epoch 16: ReduceLROnPlateau reducing learning rate to 1.000000082740371e-10.\n",
      "13/13 [==============================] - 0s 1ms/step - loss: 9.7609 - mae: 2.2119 - val_loss: 3163667.7500 - val_mae: 1746.9902 - lr: 1.0000e-09\n",
      "Epoch 17/20\n",
      "13/13 [==============================] - 0s 1ms/step - loss: 9.7609 - mae: 2.2119 - val_loss: 3163667.7500 - val_mae: 1746.9902 - lr: 1.0000e-10\n",
      "Epoch 18/20\n",
      " 1/13 [=>............................] - ETA: 0s - loss: 7.9163 - mae: 2.2130\n",
      "Epoch 18: ReduceLROnPlateau reducing learning rate to 1e-10.\n",
      "13/13 [==============================] - 0s 1ms/step - loss: 9.7609 - mae: 2.2119 - val_loss: 3163667.7500 - val_mae: 1746.9902 - lr: 1.0000e-10\n",
      "Epoch 19/20\n",
      "13/13 [==============================] - 0s 1ms/step - loss: 9.7609 - mae: 2.2119 - val_loss: 3163667.7500 - val_mae: 1746.9902 - lr: 1.0000e-10\n",
      "Epoch 20/20\n",
      "13/13 [==============================] - 0s 1ms/step - loss: 9.7609 - mae: 2.2119 - val_loss: 3163667.7500 - val_mae: 1746.9902 - lr: 1.0000e-10\n"
     ]
    },
    {
     "data": {
      "text/plain": [
       "<keras.src.callbacks.History at 0x2a34d2f50>"
      ]
     },
     "execution_count": 104,
     "metadata": {},
     "output_type": "execute_result"
    }
   ],
   "source": [
    "reduce_lr = callbacks.ReduceLROnPlateau(monitor='val_mae',\n",
    "                                        factor=0.1,\n",
    "                                        patience=0,\n",
    "                                        verbose=1,\n",
    "                                        mode='auto',\n",
    "                                        min_delta=0,\n",
    "                                        cooldown=2,\n",
    "                                        min_lr=1e-10)\n",
    "\n",
    "model.fit(X_train, y_train,\n",
    "          epochs=20,\n",
    "          validation_data=(X_test, y_test),\n",
    "          callbacks=[reduce_lr])"
   ]
  },
  {
   "cell_type": "code",
   "execution_count": 105,
   "id": "684bf187",
   "metadata": {},
   "outputs": [],
   "source": [
    "import keras\n",
    "\n",
    "class CustomCallback(keras.callbacks.Callback):\n",
    "    def on_train_begin(self, logs=None):\n",
    "        keys = list(logs.keys())\n",
    "        print(f\"Starting training; got log keys: {keys}\")\n",
    "\n",
    "    def on_train_end(self, logs=None):\n",
    "        keys = list(logs.keys())\n",
    "        print(f\"Stop training; got log keys: {keys}\")\n",
    "\n",
    "    def on_epoch_begin(self, epoch, logs=None):\n",
    "        keys = list(logs.keys())\n",
    "        print(f\"Start epoch {epoch} of training; got log keys: {keys}\")\n",
    "\n",
    "    def on_epoch_end(self, epoch, logs=None):\n",
    "        keys = list(logs.keys())\n",
    "        print(f\"End epoch {epoch} of training; got log keys: {keys}\")\n",
    "\n",
    "    def on_test_begin(self, logs=None):\n",
    "        keys = list(logs.keys())\n",
    "        print(f\"Start testing; got log keys: {keys}\")\n",
    "\n",
    "    def on_test_end(self, logs=None):\n",
    "        keys = list(logs.keys())\n",
    "        print(f\"Stop testing; got log keys: {keys}\")\n",
    "\n",
    "    def on_train_batch_begin(self, batch, logs=None):\n",
    "        keys = list(logs.keys())\n",
    "        print(f\"...Training: start of batch {batch}; got log keys: {keys}\")\n",
    "\n",
    "    def on_train_batch_end(self, batch, logs=None):\n",
    "        keys = list(logs.keys())\n",
    "        print(f\"...Training: end of batch {batch}; got log keys: {keys}\")\n",
    "\n",
    "    def on_test_batch_begin(self, batch, logs=None):\n",
    "        keys = list(logs.keys())\n",
    "        print(f\"...Evaluating: start of batch {batch}; got log keys: {keys}\")\n",
    "\n",
    "    def on_test_batch_end(self, batch, logs=None):\n",
    "        keys = list(logs.keys())\n",
    "        print(f\"...Evaluating: end of batch {batch}; got log keys: {keys}\")"
   ]
  },
  {
   "cell_type": "code",
   "execution_count": 106,
   "id": "75cb3784",
   "metadata": {},
   "outputs": [
    {
     "name": "stdout",
     "output_type": "stream",
     "text": [
      "Starting training; got log keys: []\n",
      "Start epoch 0 of training; got log keys: []\n",
      "...Training: start of batch 0; got log keys: []\n",
      "...Training: end of batch 0; got log keys: ['loss', 'mae']\n",
      "...Training: start of batch 1; got log keys: []\n",
      "...Training: end of batch 1; got log keys: ['loss', 'mae']\n",
      "...Training: start of batch 2; got log keys: []\n",
      "...Training: end of batch 2; got log keys: ['loss', 'mae']\n",
      "...Training: start of batch 3; got log keys: []\n",
      "...Training: end of batch 3; got log keys: ['loss', 'mae']\n",
      "...Training: start of batch 4; got log keys: []\n",
      "...Training: end of batch 4; got log keys: ['loss', 'mae']\n",
      "...Training: start of batch 5; got log keys: []\n",
      "...Training: end of batch 5; got log keys: ['loss', 'mae']\n",
      "...Training: start of batch 6; got log keys: []\n",
      "...Training: end of batch 6; got log keys: ['loss', 'mae']\n",
      "...Training: start of batch 7; got log keys: []\n",
      "...Training: end of batch 7; got log keys: ['loss', 'mae']\n",
      "...Training: start of batch 8; got log keys: []\n",
      "...Training: end of batch 8; got log keys: ['loss', 'mae']\n",
      "...Training: start of batch 9; got log keys: []\n",
      "...Training: end of batch 9; got log keys: ['loss', 'mae']\n",
      "...Training: start of batch 10; got log keys: []\n",
      "...Training: end of batch 10; got log keys: ['loss', 'mae']\n",
      "...Training: start of batch 11; got log keys: []\n",
      "...Training: end of batch 11; got log keys: ['loss', 'mae']\n",
      "...Training: start of batch 12; got log keys: []\n",
      "...Training: end of batch 12; got log keys: ['loss', 'mae']\n",
      "Start testing; got log keys: []\n",
      "...Evaluating: start of batch 0; got log keys: []\n",
      "...Evaluating: end of batch 0; got log keys: ['loss', 'mae']\n",
      "...Evaluating: start of batch 1; got log keys: []\n",
      "...Evaluating: end of batch 1; got log keys: ['loss', 'mae']\n",
      "...Evaluating: start of batch 2; got log keys: []\n",
      "...Evaluating: end of batch 2; got log keys: ['loss', 'mae']\n",
      "...Evaluating: start of batch 3; got log keys: []\n",
      "...Evaluating: end of batch 3; got log keys: ['loss', 'mae']\n",
      "Stop testing; got log keys: ['loss', 'mae']\n",
      "End epoch 0 of training; got log keys: ['loss', 'mae', 'val_loss', 'val_mae']\n",
      "Stop training; got log keys: ['loss', 'mae', 'val_loss', 'val_mae']\n"
     ]
    }
   ],
   "source": [
    "model.fit(X_train, y_train,\n",
    "          epochs=1,\n",
    "          validation_data=(X_test, y_test),\n",
    "          callbacks=[CustomCallback()],\n",
    "          verbose=0);"
   ]
  },
  {
   "cell_type": "code",
   "execution_count": null,
   "id": "2485d6e8",
   "metadata": {},
   "outputs": [],
   "source": []
  }
 ],
 "metadata": {
  "kernelspec": {
   "display_name": "Python 3 (ipykernel)",
   "language": "python",
   "name": "python3"
  },
  "language_info": {
   "codemirror_mode": {
    "name": "ipython",
    "version": 3
   },
   "file_extension": ".py",
   "mimetype": "text/x-python",
   "name": "python",
   "nbconvert_exporter": "python",
   "pygments_lexer": "ipython3",
   "version": "3.10.9"
  }
 },
 "nbformat": 4,
 "nbformat_minor": 5
}

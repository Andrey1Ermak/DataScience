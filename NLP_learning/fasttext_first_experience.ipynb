{
 "cells": [
  {
   "cell_type": "code",
   "execution_count": 1,
   "id": "7d571501",
   "metadata": {},
   "outputs": [],
   "source": [
    "import pandas as pd\n",
    "import numpy as np\n",
    "\n",
    "import gensim\n",
    "from gensim.models.fasttext import FastText\n",
    "\n",
    "import re\n",
    "from string import printable\n",
    "from razdel import tokenize\n",
    "\n",
    "from datetime import datetime"
   ]
  },
  {
   "cell_type": "code",
   "execution_count": 2,
   "id": "f4debee1",
   "metadata": {},
   "outputs": [],
   "source": [
    "df = pd.read_csv('ruscorpora_content.csv', sep=\";\")\n",
    "df1 = pd.read_csv('ruscorpora_content1.csv', sep=\";\")\n",
    "df2 = pd.read_csv('ruscorpora_content2.csv', sep=\";\")\n",
    "df3 = pd.read_csv('ruscorpora_content3.csv', sep=\";\")\n",
    "df = pd.concat([df, df1, df2, df3])"
   ]
  },
  {
   "cell_type": "code",
   "execution_count": 3,
   "id": "6ab40c1b",
   "metadata": {},
   "outputs": [],
   "source": [
    "df['Publ_year'] = pd.to_datetime(df['Publ_year'], errors='coerce')\n",
    "df[\"Publ_year\"] = df[\"Publ_year\"].dt.year\n",
    "df = df[df[\"Publ_year\"] > 1980]"
   ]
  },
  {
   "cell_type": "code",
   "execution_count": 4,
   "id": "b722de2f",
   "metadata": {},
   "outputs": [
    {
     "data": {
      "text/plain": [
       "(10058, 19)"
      ]
     },
     "execution_count": 4,
     "metadata": {},
     "output_type": "execute_result"
    }
   ],
   "source": [
    "df.shape"
   ]
  },
  {
   "cell_type": "code",
   "execution_count": 5,
   "id": "8c2c35a9",
   "metadata": {},
   "outputs": [],
   "source": [
    "printable += 'абвгдеёжзийклмнопрстуфхцчшщъыьэюя' + 'абвгдеёжзийклмнопрстуфхцчшщъыьэюя'.upper()\n",
    "\n",
    "def preprocessing_text(text: str) -> str:\n",
    "    \n",
    "    text = text.lower()\n",
    "    text = text.replace(u\"\\u00A0\", \" \")\n",
    "    text = re.sub('&nbsp;', ' ', text)\n",
    "    text = re.sub(' +', ' ', text)\n",
    "    text = re.sub('[?+=);:(\\[\\]#\\'\"°~*→»«|!_\\t\\.\\,]', ' ', text)\n",
    "    text = re.sub(\"[^{}]+\".format(printable), \"\", text)\n",
    "    return text"
   ]
  },
  {
   "cell_type": "code",
   "execution_count": 6,
   "id": "11bc35fc",
   "metadata": {},
   "outputs": [],
   "source": [
    "texts = [i for i in df['Full context']]\n",
    "\n",
    "correctness_texts = []\n",
    "for text in texts:\n",
    "    correctness = preprocessing_text(text)\n",
    "    correctness_texts.append(correctness)\n",
    "    \n",
    "df['Full context'] = correctness_texts\n",
    "df['Full context'] = df['Full context'].apply(lambda x: [a.text for a in tokenize(x)])"
   ]
  },
  {
   "cell_type": "code",
   "execution_count": 7,
   "id": "bf836b8b",
   "metadata": {},
   "outputs": [],
   "source": [
    "texts_model = []\n",
    "for text in df['Full context']:\n",
    "    texts_model.extend(text)"
   ]
  },
  {
   "cell_type": "code",
   "execution_count": 26,
   "id": "a4a337d0",
   "metadata": {},
   "outputs": [
    {
     "name": "stdout",
     "output_type": "stream",
     "text": [
      "CPU times: user 8.25 s, sys: 1.11 s, total: 9.36 s\n",
      "Wall time: 6.39 s\n"
     ]
    }
   ],
   "source": [
    "%%time\n",
    "ft_model = FastText(texts_model,\n",
    "                    vector_size=300,\n",
    "                    window=10,\n",
    "                    min_count=5,\n",
    "                    sg=1)"
   ]
  },
  {
   "cell_type": "code",
   "execution_count": 27,
   "id": "08b916c9",
   "metadata": {},
   "outputs": [],
   "source": [
    "wv = ft_model.wv"
   ]
  },
  {
   "cell_type": "markdown",
   "id": "8efe8a82",
   "metadata": {},
   "source": [
    "### Использованный текст\n",
    "\n",
    "Мне отвели маленькую комнатку, в четвертом этаже отеля. Здесь известно, что я принадлежу к свите генерала. По всему видно, что они успели-таки дать себя знать. Генерала считают здесь все богатейшим русским вельможей. Еще до обеда он успел, между другими поручениями, дать мне два тысячефранковых билета разменять. Я разменял их в конторе отеля. Теперь на нас будут смотреть, как на миллионеров, по крайней мере целую неделю. Я хотел было взять Мишу и Надю и пойти с ними гулять, но с лестницы меня позвали к генералу; ему заблагорассудилось осведомиться, куда я их поведу. Этот человек решительно не может смотреть мне прямо в глаза; он бы и очень хотел, но я каждый раз отвечаю ему таким пристальным, то есть непочтительным взглядом, что он как будто конфузится. В весьма напыщенной речи, насаживая одну фразу на другую и наконец совсем запутавшись, он дал мне понять, чтоб я гулял с детьми где-нибудь, подальше от воксала, в парке. Наконец он рассердился совсем и круто прибавил"
   ]
  },
  {
   "cell_type": "code",
   "execution_count": 28,
   "id": "b3edce52",
   "metadata": {},
   "outputs": [],
   "source": [
    "text = 'Мне отвели маленькую комнатку, в четвертом этаже отеля. Здесь известно, что я принадлежу к свите генерала. По всему видно, что они успели-таки дать себя знать. Генерала считают здесь все богатейшим русским вельможей. Еще до обеда он успел, между другими поручениями, дать мне два тысячефранковых билета разменять. Я разменял их в конторе отеля. Теперь на нас будут смотреть, как на миллионеров, по крайней мере целую неделю. Я хотел было взять Мишу и Надю и пойти с ними гулять, но с лестницы меня позвали к генералу; ему заблагорассудилось осведомиться, куда я их поведу. Этот человек решительно не может смотреть мне прямо в глаза; он бы и очень хотел, но я каждый раз отвечаю ему таким пристальным, то есть непочтительным взглядом, что он как будто конфузится. В весьма напыщенной речи, насаживая одну фразу на другую и наконец совсем запутавшись, он дал мне понять, чтоб я гулял с детьми где-нибудь, подальше от воксала, в парке. Наконец он рассердился совсем и круто прибавил:'\n",
    "\n",
    "text = preprocessing_text(text)\n",
    "text = [a.text for a in tokenize(text)]\n",
    "\n",
    "vectors = [wv[feat] for feat in text]"
   ]
  },
  {
   "cell_type": "code",
   "execution_count": 29,
   "id": "4000c381",
   "metadata": {},
   "outputs": [],
   "source": [
    "word = 'парке'\n",
    "\n",
    "feat_vector = [wv[word]]"
   ]
  },
  {
   "cell_type": "code",
   "execution_count": 30,
   "id": "6bc1581a",
   "metadata": {},
   "outputs": [],
   "source": [
    "def cosine_similarities(vector_feat, vectors_all):\n",
    "    vector_1 = np.array(vector_feat)\n",
    "    norm = np.linalg.norm(vector_1, axis=1)\n",
    "    all_norms = np.linalg.norm(vectors_all, axis=1)\n",
    "    norm_matr = np.dot(np.reshape(all_norms, (all_norms.shape[0], 1)), np.reshape(norm, (1, norm.shape[0])))\n",
    "    dot_products = np.dot(vectors_all, vector_1.transpose())\n",
    "    similarities = dot_products / norm_matr\n",
    "    return 1 - similarities"
   ]
  },
  {
   "cell_type": "code",
   "execution_count": 31,
   "id": "f3a0e820",
   "metadata": {},
   "outputs": [],
   "source": [
    "cos_scores = cosine_similarities(feat_vector, vectors)"
   ]
  },
  {
   "cell_type": "code",
   "execution_count": 32,
   "id": "7961ebc4",
   "metadata": {},
   "outputs": [
    {
     "name": "stdout",
     "output_type": "stream",
     "text": [
      "True - min cos_scores = 0.000\n"
     ]
    }
   ],
   "source": [
    "if cos_scores.min() < 0.5:\n",
    "    print(f'True - min cos_scores = {cos_scores.min():.3f}')\n",
    "else:\n",
    "    print('False')"
   ]
  },
  {
   "cell_type": "code",
   "execution_count": null,
   "id": "3fc5603d",
   "metadata": {},
   "outputs": [],
   "source": []
  }
 ],
 "metadata": {
  "kernelspec": {
   "display_name": "Python 3 (ipykernel)",
   "language": "python",
   "name": "python3"
  },
  "language_info": {
   "codemirror_mode": {
    "name": "ipython",
    "version": 3
   },
   "file_extension": ".py",
   "mimetype": "text/x-python",
   "name": "python",
   "nbconvert_exporter": "python",
   "pygments_lexer": "ipython3",
   "version": "3.9.13"
  }
 },
 "nbformat": 4,
 "nbformat_minor": 5
}
